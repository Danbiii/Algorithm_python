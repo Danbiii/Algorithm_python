{
 "cells": [
  {
   "cell_type": "code",
   "execution_count": 28,
   "metadata": {},
   "outputs": [
    {
     "data": {
      "text/plain": [
       "'mislav'"
      ]
     },
     "execution_count": 28,
     "metadata": {},
     "output_type": "execute_result"
    }
   ],
   "source": [
    "participant = ['mislav','stanko','ana']\n",
    "completion = ['stanko','ana']\n",
    "\n",
    "def solution(participant, completion):\n",
    "        result = list(set(participant) - set(completion))\n",
    "        return result[0]\n",
    "    \n",
    "solution(participant, completion)\n",
    "# 동명이인이 없을 경우만 가능"
   ]
  },
  {
   "cell_type": "code",
   "execution_count": 29,
   "metadata": {},
   "outputs": [
    {
     "data": {
      "text/plain": [
       "'mislav'"
      ]
     },
     "execution_count": 29,
     "metadata": {},
     "output_type": "execute_result"
    }
   ],
   "source": [
    "participant = ['mislav','stanko','mislav','ana']\n",
    "completion = ['stanko','ana','mislav']\n",
    "\n",
    "\n",
    "def solution(participant, completion):\n",
    "    for i in range(len(completion)):\n",
    "        participant.remove(completion[i])\n",
    "    return participant[0]\n",
    "\n",
    "solution(participant, completion)\n",
    "# 비효율적"
   ]
  },
  {
   "cell_type": "code",
   "execution_count": 30,
   "metadata": {},
   "outputs": [
    {
     "data": {
      "text/plain": [
       "'mislav'"
      ]
     },
     "execution_count": 30,
     "metadata": {},
     "output_type": "execute_result"
    }
   ],
   "source": [
    "participant = ['mislav','stanko','mislav','ana']\n",
    "completion = ['stanko','ana','mislav']\n",
    "\n",
    "def solution(participant, completion):\n",
    "    p = {}\n",
    "    uniq_p = list(set(participant))\n",
    "    for u in uniq_p:\n",
    "        p[u] = participant.count(u)\n",
    "    \n",
    "    c = {}\n",
    "    uniq_c = list(set(completion))\n",
    "    for u in uniq_c:\n",
    "        c[u] = completion.count(u)\n",
    "        result = list(p.items()-c.items())\n",
    "    return result[0][0]\n",
    "    \n",
    "solution(participant, completion)\n",
    "# 비효율적 n^2"
   ]
  },
  {
   "cell_type": "code",
   "execution_count": 24,
   "metadata": {},
   "outputs": [
    {
     "name": "stdout",
     "output_type": "stream",
     "text": [
      "mislav\n"
     ]
    }
   ],
   "source": [
    "p = {}\n",
    "participant = ['mislav','stanko','mislav','ana']\n",
    "completion = ['stanko','ana','mislav']\n",
    "\n",
    "def solution(participant, completion):\n",
    "    for u in participant:\n",
    "        if u in p.keys():\n",
    "            p[u] += 1\n",
    "        else:\n",
    "            p[u] = 1\n",
    "\n",
    "    for u in completion: \n",
    "        p[u] -= 1\n",
    "\n",
    "    for key in p.keys():\n",
    "        if p[key] != 0:\n",
    "            result = key\n",
    "            \n",
    "    return result"
   ]
  },
  {
   "cell_type": "code",
   "execution_count": 32,
   "metadata": {},
   "outputs": [
    {
     "data": {
      "text/plain": [
       "'mislav'"
      ]
     },
     "execution_count": 32,
     "metadata": {},
     "output_type": "execute_result"
    }
   ],
   "source": [
    "## collection을 사용한 코드\n",
    "import collections\n",
    "\n",
    "def solution(participant, completion):\n",
    "    answer = collections.Counter(participant) - collections.Counter(completion)\n",
    "    return list(answer.keys())[0]\n",
    "\n",
    "solution(participant, completion)"
   ]
  }
 ],
 "metadata": {
  "kernelspec": {
   "display_name": "Python 3",
   "language": "python",
   "name": "python3"
  },
  "language_info": {
   "codemirror_mode": {
    "name": "ipython",
    "version": 3
   },
   "file_extension": ".py",
   "mimetype": "text/x-python",
   "name": "python",
   "nbconvert_exporter": "python",
   "pygments_lexer": "ipython3",
   "version": "3.6.5"
  }
 },
 "nbformat": 4,
 "nbformat_minor": 2
}
