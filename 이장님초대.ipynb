{
 "cells": [
  {
   "cell_type": "code",
   "execution_count": 2,
   "metadata": {
    "scrolled": true
   },
   "outputs": [
    {
     "name": "stdout",
     "output_type": "stream",
     "text": [
      "4\n",
      "2\n",
      "3\n",
      "4\n",
      "3\n",
      "7\n"
     ]
    }
   ],
   "source": [
    "namu = input()\n",
    "tree = []\n",
    "for i in range(int(namu)):\n",
    "    tree.append(int(input()))\n",
    "\n",
    "trees = sorted(tree, reverse=True)\n",
    "for j in range(len(trees)):\n",
    "    trees[j] += j+1\n",
    "print(max(trees)+1)"
   ]
  },
  {
   "cell_type": "code",
   "execution_count": 3,
   "metadata": {
    "scrolled": true
   },
   "outputs": [
    {
     "name": "stdout",
     "output_type": "stream",
     "text": [
      "4\n",
      "2 3 4 3\n",
      "7\n"
     ]
    }
   ],
   "source": [
    "namu = input()\n",
    "tree = list(sorted(map(int,input().split(\" \")), reverse=True))\n",
    "for j in range(len(tree)):\n",
    "    tree[j] += j+1\n",
    "print(max(tree)+1)"
   ]
  },
  {
   "cell_type": "code",
   "execution_count": null,
   "metadata": {},
   "outputs": [],
   "source": []
  }
 ],
 "metadata": {
  "kernelspec": {
   "display_name": "Python 3",
   "language": "python",
   "name": "python3"
  },
  "language_info": {
   "codemirror_mode": {
    "name": "ipython",
    "version": 3
   },
   "file_extension": ".py",
   "mimetype": "text/x-python",
   "name": "python",
   "nbconvert_exporter": "python",
   "pygments_lexer": "ipython3",
   "version": "3.6.5"
  }
 },
 "nbformat": 4,
 "nbformat_minor": 2
}
