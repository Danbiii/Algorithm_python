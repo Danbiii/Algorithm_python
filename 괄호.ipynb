{
 "cells": [
  {
   "cell_type": "code",
   "execution_count": 4,
   "metadata": {},
   "outputs": [
    {
     "name": "stdout",
     "output_type": "stream",
     "text": [
      "6\n",
      "YES\n",
      "YES\n",
      "YES\n",
      "YES\n",
      "YES\n",
      "YES\n"
     ]
    }
   ],
   "source": [
    "import sys\n",
    "TC = int(input())\n",
    "\n",
    "for i in range(TC):\n",
    "    arr = sys.stdin.readline().rstrip()\n",
    "    a = 0\n",
    "    for i in range(len(arr)):\n",
    "        if arr[i]==\"(\":\n",
    "            a += 1\n",
    "        else:\n",
    "            a -= 1\n",
    "            \n",
    "        if a < 0:\n",
    "            break\n",
    "            print('NO')\n",
    "    \n",
    "    if a == 0:\n",
    "        print('YES')\n",
    "    else:\n",
    "        print('NO')"
   ]
  },
  {
   "cell_type": "code",
   "execution_count": null,
   "metadata": {},
   "outputs": [],
   "source": []
  }
 ],
 "metadata": {
  "kernelspec": {
   "display_name": "Python 3",
   "language": "python",
   "name": "python3"
  },
  "language_info": {
   "codemirror_mode": {
    "name": "ipython",
    "version": 3
   },
   "file_extension": ".py",
   "mimetype": "text/x-python",
   "name": "python",
   "nbconvert_exporter": "python",
   "pygments_lexer": "ipython3",
   "version": "3.6.5"
  }
 },
 "nbformat": 4,
 "nbformat_minor": 2
}
