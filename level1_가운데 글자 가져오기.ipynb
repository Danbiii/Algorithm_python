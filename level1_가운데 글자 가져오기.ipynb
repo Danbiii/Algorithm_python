{
 "cells": [
  {
   "cell_type": "code",
   "execution_count": 6,
   "metadata": {},
   "outputs": [
    {
     "name": "stdout",
     "output_type": "stream",
     "text": [
      "w\n"
     ]
    }
   ],
   "source": [
    "def center_string(s):\n",
    "    center = len(s)//2\n",
    "    if len(s)%2 == 1:\n",
    "        result = s[center]\n",
    "    elif len(s)%2 == 0:\n",
    "        result = s[center-1:center+1]\n",
    "    return result\n",
    "\n",
    "print(center_string('power'))"
   ]
  },
  {
   "cell_type": "code",
   "execution_count": 7,
   "metadata": {},
   "outputs": [
    {
     "name": "stdout",
     "output_type": "stream",
     "text": [
      "w\n"
     ]
    }
   ],
   "source": [
    "# 한 줄 코드\n",
    "\n",
    "def string_middle(str):\n",
    "    return str[(len(str)-1)//2:len(str)//2+1]\n",
    "\n",
    "print(string_middle(\"power\"))"
   ]
  }
 ],
 "metadata": {
  "kernelspec": {
   "display_name": "Python 3",
   "language": "python",
   "name": "python3"
  },
  "language_info": {
   "codemirror_mode": {
    "name": "ipython",
    "version": 3
   },
   "file_extension": ".py",
   "mimetype": "text/x-python",
   "name": "python",
   "nbconvert_exporter": "python",
   "pygments_lexer": "ipython3",
   "version": "3.6.5"
  }
 },
 "nbformat": 4,
 "nbformat_minor": 2
}
