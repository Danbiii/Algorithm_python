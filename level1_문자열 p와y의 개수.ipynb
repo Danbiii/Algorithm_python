{
 "cells": [
  {
   "cell_type": "code",
   "execution_count": 2,
   "metadata": {},
   "outputs": [
    {
     "data": {
      "text/plain": [
       "True"
      ]
     },
     "execution_count": 2,
     "metadata": {},
     "output_type": "execute_result"
    }
   ],
   "source": [
    "s = 'pPoooyY'\n",
    "s = s.lower()\n",
    "\n",
    "p = 0\n",
    "y = 0\n",
    "\n",
    "def solution(s):\n",
    "    s = s.lower()\n",
    "    p = 0\n",
    "    y = 0\n",
    "    for i in range(len(s)):\n",
    "        if s[i] == 'p':\n",
    "            p += 1\n",
    "        elif s[i] == 'y':\n",
    "            y += 1\n",
    "    if p == y:\n",
    "        result = True\n",
    "    else:\n",
    "        result = False\n",
    "    \n",
    "    return result\n",
    "\n",
    "solution('PpoooyY')"
   ]
  },
  {
   "cell_type": "code",
   "execution_count": 3,
   "metadata": {},
   "outputs": [
    {
     "name": "stdout",
     "output_type": "stream",
     "text": [
      "True\n"
     ]
    }
   ],
   "source": [
    "## count 사용한 코드\n",
    "\n",
    "def solution(s):\n",
    "    return s.lower().count('p') == s.lower().count('y')\n",
    "\n",
    "print(solution('PpoooYy'))"
   ]
  }
 ],
 "metadata": {
  "kernelspec": {
   "display_name": "Python 3",
   "language": "python",
   "name": "python3"
  },
  "language_info": {
   "codemirror_mode": {
    "name": "ipython",
    "version": 3
   },
   "file_extension": ".py",
   "mimetype": "text/x-python",
   "name": "python",
   "nbconvert_exporter": "python",
   "pygments_lexer": "ipython3",
   "version": "3.6.5"
  }
 },
 "nbformat": 4,
 "nbformat_minor": 2
}
