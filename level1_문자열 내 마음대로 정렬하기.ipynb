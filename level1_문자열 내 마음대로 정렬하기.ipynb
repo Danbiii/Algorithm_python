{
 "cells": [
  {
   "cell_type": "code",
   "execution_count": 4,
   "metadata": {},
   "outputs": [
    {
     "data": {
      "text/plain": [
       "['car', 'bed', 'sun']"
      ]
     },
     "execution_count": 4,
     "metadata": {},
     "output_type": "execute_result"
    }
   ],
   "source": [
    "strings = ['sun','bed','car']\n",
    "# strings = ['abce','abcd','cdx']\n",
    "def solution(strings,n):\n",
    "    dic={}\n",
    "    new = []\n",
    "    for i in range(len(strings)):\n",
    "        dic[i] = strings[i][n]\n",
    "        dic_s = sorted(dic.items(), key = lambda x:x[n])\n",
    "        sorted(dic_s)\n",
    "\n",
    "    for d in range(len(dic_s)):\n",
    "        new.append(strings[dic_s[d][0]])\n",
    "    return new\n",
    "\n",
    "solution(strings,1)  ##n번쨰 단어가 중복될 경우 오답"
   ]
  },
  {
   "cell_type": "code",
   "execution_count": 6,
   "metadata": {},
   "outputs": [
    {
     "data": {
      "text/plain": [
       "['bed', 'sun', 'car']"
      ]
     },
     "execution_count": 6,
     "metadata": {},
     "output_type": "execute_result"
    }
   ],
   "source": [
    "strings = ['sun','bed','car']\n",
    "# strings = ['abce','abcd','cdx']\n",
    "\n",
    "def solution(strings,n):\n",
    "    words=[]\n",
    "    for i in range(len(strings)):\n",
    "        strings[i] = strings[i][n]+strings[i]\n",
    "\n",
    "    strings = sorted(strings)\n",
    "    for s in range(len(strings)):\n",
    "        words.append(strings[s][1:])\n",
    "        \n",
    "    return words\n",
    "\n",
    "solution(strings, 2)"
   ]
  },
  {
   "cell_type": "code",
   "execution_count": 7,
   "metadata": {},
   "outputs": [
    {
     "name": "stdout",
     "output_type": "stream",
     "text": [
      "['abce', 'abcd', 'cdx']\n"
     ]
    }
   ],
   "source": [
    "## sorted 이용한 코드 \n",
    "def strange_sort(strings, n):\n",
    "    return sorted(strings, key=lambda x:x[n])\n",
    "\n",
    "# strings = ['sun','bed','car']\n",
    "strings = ['abce','abcd','cdx']\n",
    "print(strange_sort(strings,1))"
   ]
  },
  {
   "cell_type": "code",
   "execution_count": 8,
   "metadata": {},
   "outputs": [
    {
     "data": {
      "text/plain": [
       "['abcd', 'abce', 'cdx']"
      ]
     },
     "execution_count": 8,
     "metadata": {},
     "output_type": "execute_result"
    }
   ],
   "source": [
    "## operator 사용한 코드\n",
    "from operator import itemgetter\n",
    "\n",
    "def solution(strings, n):\n",
    "    return sorted(sorted(strings), key = itemgetter(n))\n",
    "\n",
    "solution(strings,1)"
   ]
  }
 ],
 "metadata": {
  "kernelspec": {
   "display_name": "Python 3",
   "language": "python",
   "name": "python3"
  },
  "language_info": {
   "codemirror_mode": {
    "name": "ipython",
    "version": 3
   },
   "file_extension": ".py",
   "mimetype": "text/x-python",
   "name": "python",
   "nbconvert_exporter": "python",
   "pygments_lexer": "ipython3",
   "version": "3.6.5"
  }
 },
 "nbformat": 4,
 "nbformat_minor": 2
}
