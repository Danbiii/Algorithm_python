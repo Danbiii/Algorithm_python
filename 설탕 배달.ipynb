{
 "cells": [
  {
   "cell_type": "code",
   "execution_count": 1,
   "metadata": {
    "scrolled": true
   },
   "outputs": [
    {
     "name": "stdout",
     "output_type": "stream",
     "text": [
      "18\n",
      "4\n"
     ]
    }
   ],
   "source": [
    "x = int(input())\n",
    "origin = [0]\n",
    "change = []\n",
    "cnt = 0\n",
    "\n",
    "while True:\n",
    "    if x in origin:\n",
    "        break\n",
    "\n",
    "    for i in range(len(origin)):\n",
    "        change.append(origin[i]+3)\n",
    "        change.append(origin[i]+5)\n",
    "\n",
    "    origin = change\n",
    "    change = []\n",
    "    origin = list(set(origin))\n",
    "    cnt += 1\n",
    "\n",
    "    if x < min(origin):\n",
    "        cnt = -1\n",
    "        break\n",
    "\n",
    "print(cnt)"
   ]
  },
  {
   "cell_type": "code",
   "execution_count": 2,
   "metadata": {},
   "outputs": [
    {
     "name": "stdout",
     "output_type": "stream",
     "text": [
      "18\n",
      "4\n"
     ]
    }
   ],
   "source": [
    "## 다른 사람 코드\n",
    "\n",
    "n=int(input());print(-1if n in [1,2,4,7] else n//5+n%5-n%5//3*2)"
   ]
  },
  {
   "cell_type": "code",
   "execution_count": 4,
   "metadata": {},
   "outputs": [
    {
     "name": "stdout",
     "output_type": "stream",
     "text": [
      "18\n",
      "4\n"
     ]
    }
   ],
   "source": [
    "## 다른 사람 코드 이해하기\n",
    "\n",
    "n =  int(input())\n",
    "if n in [1,2,4,7]:  # 3과 5의 배수 또는 조합으로 나올 수 없는 수\n",
    "    print(-1)\n",
    "else:\n",
    "    print(n//5 + n%5 - n%5//3*2)  # 몫 + 나누기 - (5로 나눈 나머지인데 3으로 나누어진 몫)"
   ]
  },
  {
   "cell_type": "code",
   "execution_count": 3,
   "metadata": {},
   "outputs": [
    {
     "name": "stdout",
     "output_type": "stream",
     "text": [
      "3\n",
      "3\n",
      "2\n"
     ]
    }
   ],
   "source": [
    "print(18//5) # 몫\n",
    "print(18%5)  # 나누기\n",
    "print(18%5//3*2)  # "
   ]
  },
  {
   "cell_type": "code",
   "execution_count": null,
   "metadata": {},
   "outputs": [],
   "source": []
  }
 ],
 "metadata": {
  "kernelspec": {
   "display_name": "Python 3",
   "language": "python",
   "name": "python3"
  },
  "language_info": {
   "codemirror_mode": {
    "name": "ipython",
    "version": 3
   },
   "file_extension": ".py",
   "mimetype": "text/x-python",
   "name": "python",
   "nbconvert_exporter": "python",
   "pygments_lexer": "ipython3",
   "version": "3.6.5"
  }
 },
 "nbformat": 4,
 "nbformat_minor": 2
}
