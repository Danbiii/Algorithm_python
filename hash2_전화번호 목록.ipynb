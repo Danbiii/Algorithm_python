{
 "cells": [
  {
   "cell_type": "code",
   "execution_count": 79,
   "metadata": {},
   "outputs": [
    {
     "data": {
      "text/plain": [
       "True"
      ]
     },
     "execution_count": 79,
     "metadata": {},
     "output_type": "execute_result"
    }
   ],
   "source": [
    "# phone_book = ['119','97674223','1195524421']\n",
    "phone_book = [\"113\", \"12340\", \"123440\", \"12345\", \"98346\"]\n",
    "\n",
    "def solution(phone_book):\n",
    "    phone_book = sorted(phone_book)\n",
    "    for i in range(len(phone_book)):\n",
    "        for j in range(i+1,len(phone_book)):\n",
    "            if phone_book[i] in phone_book[j][:len(phone_book[i])]:\n",
    "                return False\n",
    "            \n",
    "    return True\n",
    "solution(phone_book)            "
   ]
  },
  {
   "cell_type": "code",
   "execution_count": 80,
   "metadata": {},
   "outputs": [
    {
     "name": "stdout",
     "output_type": "stream",
     "text": [
      "('113', '12340')\n",
      "('12340', '123440')\n",
      "('123440', '12345')\n",
      "('12345', '98346')\n"
     ]
    },
    {
     "data": {
      "text/plain": [
       "True"
      ]
     },
     "execution_count": 80,
     "metadata": {},
     "output_type": "execute_result"
    }
   ],
   "source": [
    "# zip, startswith 사용한 코드\n",
    "phone_book = [\"113\", \"12340\", \"123440\", \"12345\", \"98346\"]\n",
    "def solution(phone_book):\n",
    "    phone_book = sorted(phone_book)\n",
    "    for p in zip(phone_book, phone_book[1:]):\n",
    "        print(p)\n",
    "        if p[1].startswith(p[0]):\n",
    "            return False\n",
    "    return True\n",
    "\n",
    "solution(phone_book)\n",
    "\n",
    "## str.startswith(str, beg=0, end=len(string))\n",
    "# str: 문자열\n",
    "# beg: 문자열 검색의 시작 위치\n",
    "# end: 문자열의 끝 위치 설정"
   ]
  },
  {
   "cell_type": "code",
   "execution_count": 81,
   "metadata": {},
   "outputs": [
    {
     "data": {
      "text/plain": [
       "True"
      ]
     },
     "execution_count": 81,
     "metadata": {},
     "output_type": "execute_result"
    }
   ],
   "source": [
    "# regex 사용한 코드\n",
    "import re\n",
    "phone_book = [\"113\", \"12340\", \"123440\", \"12345\", \"98346\"]\n",
    "def solution(phone_book):\n",
    "    for b in phone_book:\n",
    "        p = re.compile('^'+b)\n",
    "        for b2 in phone_book:\n",
    "            if b != b2 and p.match(b2):\n",
    "                return False\n",
    "    return True\n",
    "\n",
    "solution(phone_book)"
   ]
  },
  {
   "cell_type": "code",
   "execution_count": null,
   "metadata": {},
   "outputs": [],
   "source": []
  }
 ],
 "metadata": {
  "kernelspec": {
   "display_name": "Python 3",
   "language": "python",
   "name": "python3"
  },
  "language_info": {
   "codemirror_mode": {
    "name": "ipython",
    "version": 3
   },
   "file_extension": ".py",
   "mimetype": "text/x-python",
   "name": "python",
   "nbconvert_exporter": "python",
   "pygments_lexer": "ipython3",
   "version": "3.6.5"
  }
 },
 "nbformat": 4,
 "nbformat_minor": 2
}
