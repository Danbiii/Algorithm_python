{
 "cells": [
  {
   "cell_type": "code",
   "execution_count": 1,
   "metadata": {},
   "outputs": [],
   "source": [
    "def solution(arrangement):\n",
    "    # \"(\" = 막대기 시작\n",
    "    # \")\" = 레이저 or 막대기 끝\n",
    "    tong = 0\n",
    "    state = 'open'\n",
    "    answer = 0\n",
    "    for i in range(len(arrangement)):\n",
    "        if arrangement[i] == \"(\": # 열렸다!\n",
    "            state = 'open'\n",
    "            tong += 1\n",
    "        else: # 닫았다!\n",
    "            \n",
    "            if state == 'open': ## () 이런 형태 >> 레이저\n",
    "                tong -= 1\n",
    "                answer += tong\n",
    "                state = 'close'            \n",
    "            else: ## )) 이런 형태 >> 막대가 닫힌 상태\n",
    "                tong -= 1\n",
    "                answer += 1 ## 닫히면 개수 +1\n",
    "                state = 'close'\n",
    "    return answer"
   ]
  },
  {
   "cell_type": "code",
   "execution_count": 2,
   "metadata": {},
   "outputs": [
    {
     "data": {
      "text/plain": [
       "17"
      ]
     },
     "execution_count": 2,
     "metadata": {},
     "output_type": "execute_result"
    }
   ],
   "source": [
    "solution(\"()(((()())(())()))(())\")"
   ]
  },
  {
   "cell_type": "code",
   "execution_count": null,
   "metadata": {},
   "outputs": [],
   "source": []
  }
 ],
 "metadata": {
  "kernelspec": {
   "display_name": "Python 3",
   "language": "python",
   "name": "python3"
  },
  "language_info": {
   "codemirror_mode": {
    "name": "ipython",
    "version": 3
   },
   "file_extension": ".py",
   "mimetype": "text/x-python",
   "name": "python",
   "nbconvert_exporter": "python",
   "pygments_lexer": "ipython3",
   "version": "3.6.5"
  }
 },
 "nbformat": 4,
 "nbformat_minor": 2
}
